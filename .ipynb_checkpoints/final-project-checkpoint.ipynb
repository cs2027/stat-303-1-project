{
 "cells": [
  {
   "cell_type": "code",
   "execution_count": 1,
<<<<<<< HEAD
   "id": "e0485f61",
=======
>>>>>>> 053f26e87704d8f1ebfcee106373aceb322fd42b
   "metadata": {},
   "outputs": [],
   "source": [
    "import pandas as pd\n",
    "import seaborn as sns\n",
    "import matplotlib.pyplot as plt\n",
    "import numpy as np"
   ]
  },
  {
   "cell_type": "markdown",
<<<<<<< HEAD
   "id": "039612e4",
=======
>>>>>>> 053f26e87704d8f1ebfcee106373aceb322fd42b
   "metadata": {},
   "source": [
    "# Final Project: NBA Quick Stats"
   ]
<<<<<<< HEAD
=======
  },
  {
   "cell_type": "markdown",
   "metadata": {},
   "source": [
    "This is a test."
   ]
>>>>>>> 053f26e87704d8f1ebfcee106373aceb322fd42b
  }
 ],
 "metadata": {
  "interpreter": {
   "hash": "7812ea015bdcee6f23a998adcdd2ef97c151c0c241b7b7070987d9313e41299d"
  },
  "kernelspec": {
   "display_name": "Python 3",
   "language": "python",
   "name": "python3"
  },
  "language_info": {
   "codemirror_mode": {
    "name": "ipython",
    "version": 3
   },
   "file_extension": ".py",
   "mimetype": "text/x-python",
   "name": "python",
   "nbconvert_exporter": "python",
   "pygments_lexer": "ipython3",
<<<<<<< HEAD
   "version": "3.8.8"
=======
   "version": "3.8.5"
>>>>>>> 053f26e87704d8f1ebfcee106373aceb322fd42b
  }
 },
 "nbformat": 4,
 "nbformat_minor": 5
}
